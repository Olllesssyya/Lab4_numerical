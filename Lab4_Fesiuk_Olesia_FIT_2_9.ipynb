{
 "cells": [
  {
   "cell_type": "code",
   "execution_count": 33,
   "id": "353718d1-2085-4c0f-802a-63f6a61558de",
   "metadata": {},
   "outputs": [
    {
     "name": "stdout",
     "output_type": "stream",
     "text": [
      "Знайти C = AB-BA = \n",
      " [[ 4 -8]\n",
      " [12 -4]]\n",
      "Піднести матрицю до степеня: \n",
      " [[ 3  4 -4]\n",
      " [ 0  1  0]\n",
      " [-2  0  3]]\n",
      "Знайти добуток матриць: \n",
      " [[ 11 -22  29]\n",
      " [  9 -27  32]\n",
      " [ 13 -17  26]]\n",
      "Обчислити визначник: \n",
      " 4.0\n",
      "Обчислити визначник: \n",
      " -160.00000000000009\n",
      "Знайти обернену матрицю: \n",
      " [[  2.  -1.   0.   0.]\n",
      " [ -3.   2.   0.   0.]\n",
      " [ 31. -19.   3.  -4.]\n",
      " [-23.  14.  -2.   3.]]\n",
      "Визначити ранг матриці: \n",
      " 2\n"
     ]
    }
   ],
   "source": [
    "#Завдання 1\n",
    "import numpy as np\n",
    "#1\n",
    "A=np.array([[1,2],[4,-1]])\n",
    "B=np.array([[2,-3],[-4,1]])\n",
    "print(f\"Знайти C = AB-BA = \\n\", A.dot(B)-B.dot(A))\n",
    "#2\n",
    "a = np.array([[-1, 0, 2], [0, 1, 0], [1, 2, -1]])\n",
    "print(f\"Піднести матрицю до степеня: \\n\", np.linalg.matrix_power(a, 2))\n",
    "#3\n",
    "b = np.array([[5, 8, -4], [6, 9, -5], [4, 7, -3]])\n",
    "c = np.array([[3, 2, 5], [4, -1, 3], [9, 6, 5]])\n",
    "print(f\"Знайти добуток матриць: \\n\", b.dot(c))\n",
    "#4\n",
    "d = np.array([[2, 4, 5], [1, 1, 2], [2, 4, 3]])\n",
    "print(f\"Обчислити визначник: \\n\", np.linalg.det(d))\n",
    "#5\n",
    "d2 = np.array([[2, 3, 4, 1], [1, 2, 3, 4], [3, 4, 1, 2], [4, 1, 2, 3]])\n",
    "print(f\"Обчислити визначник: \\n\", np.linalg.det(d2))\n",
    "#6\n",
    "d3 = np.array([[2, 1, 0, 0], [3, 2, 0, 0], [1, 1, 3, 4], [2, -1, 2, 3]])\n",
    "print(f\"Знайти обернену матрицю: \\n\", np.linalg.inv(d3))\n",
    "#7\n",
    "d4 = np.array([[1, 2, 3, 4], [3, -1, 2, 5], [1, 2, 3, 4], [1, 3, 4, 5]])\n",
    "print(f\"Визначити ранг матриці: \\n\", np.linalg.matrix_rank(d4))"
   ]
  },
  {
   "cell_type": "code",
   "execution_count": 34,
   "id": "812a1af2-4472-42a6-ab97-412e6b9bd25e",
   "metadata": {},
   "outputs": [
    {
     "name": "stdout",
     "output_type": "stream",
     "text": [
      "Розв*язування системи лінійних алгебраїчних рівнянь методом Крамера\n",
      "x= -2.765 y= -0.706 z= -3.412\n",
      "Перевіряємо правильність рішення\n",
      " [[-2.765]\n",
      " [-0.706]\n",
      " [-3.412]]\n"
     ]
    }
   ],
   "source": [
    "#8.\tРозв’язати систему лінійних рівнянь методом Крамера\n",
    "import numpy as np\n",
    "ar = np.matrix('7 3 -6; 7 9 -9; 2 -4 -9')\n",
    "br = np.matrix('-1; 5; 28')\n",
    "def kram(ar,br):\n",
    "    det_a = np.linalg.det(ar)\n",
    "    if det_a != 0:\n",
    "       a1 = np.matrix(ar)\n",
    "       a2 = np.matrix(ar)\n",
    "       a3 = np.matrix(ar)\n",
    "       a1[:, 0] = br\n",
    "       a2[:, 1] = br\n",
    "       a3[:, 2] = br\n",
    "       x = np.linalg.det(a1)/det_a\n",
    "       y =np.linalg.det(a2)/det_a\n",
    "       z= np.linalg.det(a3)/det_a\n",
    "       print('Розв*язування системи лінійних алгебраїчних рівнянь методом Крамера')\n",
    "       print('x=',x.round(3),'y=',y.round(3),'z=',z.round(3)) \n",
    "    else:\n",
    "        print('Визначник дорівнює нулю, система не має розв*язків')\n",
    "    return x,y,z\n",
    "kram(ar,br)\n",
    "print('Перевіряємо правильність рішення\\n', np.linalg.solve(ar,br).round(3)) "
   ]
  },
  {
   "cell_type": "code",
   "execution_count": 32,
   "id": "03d18d2c-4a4e-4105-ba04-6d7e0c2e70b2",
   "metadata": {},
   "outputs": [
    {
     "name": "stdout",
     "output_type": "stream",
     "text": [
      "matrix_A = \n",
      " [[1 2 3]\n",
      " [2 3 4]\n",
      " [3 4 5]\n",
      " [4 5 6]]\n",
      "Середнє значення рядків = \n",
      " [2. 3. 4. 5.]\n",
      "Найнижче значення серед середніх значень для кожного рядка матриці = 2.0\n"
     ]
    }
   ],
   "source": [
    "import numpy as np\n",
    "#Завдання 2\n",
    "#matrix_A = np.array(np.random.randint(0,10, size=(3,4)))\n",
    "matrix_A = np.array([[1,2,3],[2,3,4],[3,4,5],[4,5,6]])\n",
    "print(f\"matrix_A = \\n\", matrix_A)\n",
    "\n",
    "means_r=np.mean(matrix_A, axis=1)\n",
    "print(\"Середнє значення рядків = \\n\", means_r)\n",
    "print(\"Найнижче значення серед середніх значень для кожного рядка матриці =\", means_r.min())"
   ]
  },
  {
   "cell_type": "code",
   "execution_count": null,
   "id": "fdb30ef6-b6b4-4014-9b92-c35fb200432c",
   "metadata": {},
   "outputs": [],
   "source": []
  },
  {
   "cell_type": "code",
   "execution_count": null,
   "id": "92512ea7-e8aa-4320-b6a5-b9d4af7e14ec",
   "metadata": {},
   "outputs": [],
   "source": []
  }
 ],
 "metadata": {
  "kernelspec": {
   "display_name": "Python 3 (ipykernel)",
   "language": "python",
   "name": "python3"
  },
  "language_info": {
   "codemirror_mode": {
    "name": "ipython",
    "version": 3
   },
   "file_extension": ".py",
   "mimetype": "text/x-python",
   "name": "python",
   "nbconvert_exporter": "python",
   "pygments_lexer": "ipython3",
   "version": "3.10.7"
  }
 },
 "nbformat": 4,
 "nbformat_minor": 5
}
